{
    "nbformat_minor": 1, 
    "cells": [
        {
            "source": "# Introduction\n\nWith the worlds business enviroment changing at a rapid pace and professionals and non professionals moving to new lands to seek employment and change their living situations. How does one choose which city to move to? How does the cost of living affect thier ability to survive well in those areas? This project seeks to use cost of living date to first rank countries according to their cost of living then to choose a country and city then using Four square data to identify, why one city may cost more than another based on the facilities available in the the city.\n", 
            "cell_type": "markdown", 
            "metadata": {
                "collapsed": true
            }
        }, 
        {
            "source": "# Problem\n\nThis problem seeks to help individuals decide on where their earned money goes further. Then, to see what facilities in those areas add to the additional cost of living. In solving this proble I will be web scraping data from a number of websites.", 
            "cell_type": "markdown", 
            "metadata": {}
        }, 
        {
            "source": "", 
            "cell_type": "code", 
            "metadata": {}, 
            "outputs": [], 
            "execution_count": null
        }
    ], 
    "metadata": {
        "kernelspec": {
            "display_name": "Python 3.5", 
            "name": "python3", 
            "language": "python"
        }, 
        "language_info": {
            "mimetype": "text/x-python", 
            "nbconvert_exporter": "python", 
            "version": "3.5.5", 
            "name": "python", 
            "file_extension": ".py", 
            "pygments_lexer": "ipython3", 
            "codemirror_mode": {
                "version": 3, 
                "name": "ipython"
            }
        }
    }, 
    "nbformat": 4
}